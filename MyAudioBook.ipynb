{
  "nbformat": 4,
  "nbformat_minor": 0,
  "metadata": {
    "colab": {
      "name": "MyAudioBook.ipynb",
      "provenance": [],
      "mount_file_id": "1vHKxsxUo2PLrEwHZEkZ3nP9D4T7fmdl_",
      "authorship_tag": "ABX9TyMc57qArBPd+cYpFu6UDlak",
      "include_colab_link": true
    },
    "kernelspec": {
      "name": "python3",
      "display_name": "Python 3"
    }
  },
  "cells": [
    {
      "cell_type": "markdown",
      "metadata": {
        "id": "view-in-github",
        "colab_type": "text"
      },
      "source": [
        "<a href=\"https://colab.research.google.com/github/ArpitaChatterjee/MyAudioBook/blob/main/MyAudioBook.ipynb\" target=\"_parent\"><img src=\"https://colab.research.google.com/assets/colab-badge.svg\" alt=\"Open In Colab\"/></a>"
      ]
    },
    {
      "cell_type": "code",
      "metadata": {
        "id": "vLWgcBApA5hM",
        "outputId": "82fa0369-2bcd-49a9-ca1c-d5b15959a5fb",
        "colab": {
          "base_uri": "https://localhost:8080/",
          "height": 235
        }
      },
      "source": [
        "!pip install pyttsx3\n",
        "!pip install pypdf2"
      ],
      "execution_count": 2,
      "outputs": [
        {
          "output_type": "stream",
          "text": [
            "Requirement already satisfied: pyttsx3 in /usr/local/lib/python3.6/dist-packages (2.90)\n",
            "Collecting pypdf2\n",
            "\u001b[?25l  Downloading https://files.pythonhosted.org/packages/b4/01/68fcc0d43daf4c6bdbc6b33cc3f77bda531c86b174cac56ef0ffdb96faab/PyPDF2-1.26.0.tar.gz (77kB)\n",
            "\u001b[K     |████████████████████████████████| 81kB 2.0MB/s \n",
            "\u001b[?25hBuilding wheels for collected packages: pypdf2\n",
            "  Building wheel for pypdf2 (setup.py) ... \u001b[?25l\u001b[?25hdone\n",
            "  Created wheel for pypdf2: filename=PyPDF2-1.26.0-cp36-none-any.whl size=61086 sha256=d1fec18a2fce492cacaad9dcbe716332450273ad8d4dca9cc9c73fea9de175e4\n",
            "  Stored in directory: /root/.cache/pip/wheels/53/84/19/35bc977c8bf5f0c23a8a011aa958acd4da4bbd7a229315c1b7\n",
            "Successfully built pypdf2\n",
            "Installing collected packages: pypdf2\n",
            "Successfully installed pypdf2-1.26.0\n"
          ],
          "name": "stdout"
        }
      ]
    },
    {
      "cell_type": "code",
      "metadata": {
        "id": "R8lcjMpuCxZg"
      },
      "source": [
        "import  pyttsx3\n",
        "import  PyPDF2\n",
        "book = open('/content/drive/My Drive/Colab Notebooks/Audiobook/Secrets-and-Guardians-Devious-Intentions.pdf')\n",
        "pdfReader = PyPDF2.PdfFileReader(book)\n",
        "pages = pdfReader.numpages\n",
        "print(pages)\n",
        "speaker= pyttsx3.init() \n",
        "for num in range(7, pages):\n",
        "    page= pdfReader.getpage(7)#after which page do u want the book to be read\n",
        "    text = page.extractText()\n",
        "    speaker.say(text) \n",
        "    speaker.say(\"hello arpita\")\n",
        "    speaker.runAndWait() \n"
      ],
      "execution_count": null,
      "outputs": []
    }
  ]
}